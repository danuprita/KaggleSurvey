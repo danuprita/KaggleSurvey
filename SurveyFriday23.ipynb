{
 "cells": [
  {
   "cell_type": "code",
   "execution_count": 1,
   "metadata": {},
   "outputs": [],
   "source": [
    "from mpl_toolkits.mplot3d import Axes3D\n",
    "from sklearn.preprocessing import StandardScaler\n",
    "import matplotlib.pyplot as plt # plotting\n",
    "import numpy as np # linear algebra\n",
    "import os # accessing directory structure\n",
    "import pandas as pd # data processing, CSV file I/O (e.g. pd.read_csv)\n",
    "import seaborn as sns"
   ]
  },
  {
   "cell_type": "code",
   "execution_count": 2,
   "metadata": {},
   "outputs": [
    {
     "name": "stdout",
     "output_type": "stream",
     "text": [
      "There are 23860 rows and 395 columns\n"
     ]
    },
    {
     "name": "stderr",
     "output_type": "stream",
     "text": [
      "C:\\Anaconda3\\lib\\site-packages\\IPython\\core\\interactiveshell.py:2785: DtypeWarning: Columns (0,2,8,10,21,23,24,25,26,27,28,44,56,64,83,85,87,107,109,123,125,150,157,172,174,194,210,218,219,223,246,249,262,264,276,277,278,279,280,281,282,283,284,285,286,287,288,289,290,304,306,325,326,329,341,368,371,384,385,389,390,391,393,394) have mixed types. Specify dtype option on import or set low_memory=False.\n",
      "  interactivity=interactivity, compiler=compiler, result=result)\n"
     ]
    }
   ],
   "source": [
    "#nRowsRead = 1000 # specify 'None' if want to read whole file\n",
    "# multipleChoice.csv has 23859 rows in reality, but we are only loading/previewing the first 1000 rows\n",
    "# df1 = pd.read_csv('E:/Kaggle/Survey/multipleChoiceResponses.csv', delimiter=',', nrows = nRowsRead)\n",
    "df1 = pd.read_csv('E:/Kaggle/Survey/multipleChoiceResponses.csv')\n",
    "df1.dataframeName = 'multipleChoice.csv'\n",
    "nRow, nCol = df1.shape\n",
    "print(f'There are {nRow} rows and {nCol} columns')"
   ]
  },
  {
   "cell_type": "code",
   "execution_count": 3,
   "metadata": {},
   "outputs": [
    {
     "data": {
      "text/plain": [
       "(23860, 395)"
      ]
     },
     "execution_count": 3,
     "metadata": {},
     "output_type": "execute_result"
    }
   ],
   "source": [
    "df1.shape"
   ]
  },
  {
   "cell_type": "code",
   "execution_count": 4,
   "metadata": {},
   "outputs": [],
   "source": [
    "df1 = df1[df1['Q1'] !='What is your gender? - Selected Choice']"
   ]
  },
  {
   "cell_type": "code",
   "execution_count": 5,
   "metadata": {},
   "outputs": [
    {
     "data": {
      "text/plain": [
       "(23859, 395)"
      ]
     },
     "execution_count": 5,
     "metadata": {},
     "output_type": "execute_result"
    }
   ],
   "source": [
    "df1.shape"
   ]
  },
  {
   "cell_type": "code",
   "execution_count": 18,
   "metadata": {},
   "outputs": [],
   "source": [
    "#### all_features = all_features.drop('Ticket', axis=1)\n",
    "df1 = df1.drop(['Q1_OTHER_TEXT', 'Q6_OTHER_TEXT', 'Q7_OTHER_TEXT', 'Q11_OTHER_TEXT', 'Q12_Part_1_TEXT', 'Q12_Part_2_TEXT', 'Q12_Part_3_TEXT', 'Q12_Part_4_TEXT', 'Q12_Part_5_TEXT','Q12_OTHER_TEXT'],axis=1)"
   ]
  },
  {
   "cell_type": "code",
   "execution_count": 19,
   "metadata": {},
   "outputs": [
    {
     "data": {
      "text/plain": [
       "(23859, 385)"
      ]
     },
     "execution_count": 19,
     "metadata": {},
     "output_type": "execute_result"
    }
   ],
   "source": [
    "df1.shape"
   ]
  },
  {
   "cell_type": "code",
   "execution_count": 20,
   "metadata": {},
   "outputs": [],
   "source": [
    "df1=df1.drop(['Q13_OTHER_TEXT', 'Q14_OTHER_TEXT', 'Q15_OTHER_TEXT','Q16_OTHER_TEXT', 'Q17_OTHER_TEXT', 'Q18_OTHER_TEXT'],axis=1)"
   ]
  },
  {
   "cell_type": "code",
   "execution_count": 21,
   "metadata": {},
   "outputs": [],
   "source": [
    "df1=df1.drop(['Q19_OTHER_TEXT', 'Q20_OTHER_TEXT', 'Q21_OTHER_TEXT','Q22_OTHER_TEXT', 'Q27_OTHER_TEXT', 'Q28_OTHER_TEXT'],axis=1)"
   ]
  },
  {
   "cell_type": "code",
   "execution_count": 22,
   "metadata": {},
   "outputs": [],
   "source": [
    "df1=df1.drop(['Q29_OTHER_TEXT', 'Q30_OTHER_TEXT', 'Q31_OTHER_TEXT','Q32_OTHER', 'Q33_OTHER_TEXT', 'Q34_OTHER_TEXT'],axis=1)"
   ]
  },
  {
   "cell_type": "code",
   "execution_count": 23,
   "metadata": {},
   "outputs": [],
   "source": [
    "df1=df1.drop(['Q35_OTHER_TEXT', 'Q36_OTHER_TEXT', 'Q37_OTHER_TEXT','Q38_OTHER_TEXT', 'Q42_OTHER_TEXT', 'Q49_OTHER_TEXT'],axis=1)"
   ]
  },
  {
   "cell_type": "code",
   "execution_count": 24,
   "metadata": {},
   "outputs": [],
   "source": [
    "df1=df1.drop('Q50_OTHER_TEXT', axis=1)"
   ]
  },
  {
   "cell_type": "code",
   "execution_count": 25,
   "metadata": {},
   "outputs": [
    {
     "data": {
      "text/plain": [
       "(23859, 360)"
      ]
     },
     "execution_count": 25,
     "metadata": {},
     "output_type": "execute_result"
    }
   ],
   "source": [
    "df1.shape"
   ]
  },
  {
   "cell_type": "markdown",
   "metadata": {},
   "source": [
    "# Data Cleaning Starts"
   ]
  },
  {
   "cell_type": "markdown",
   "metadata": {},
   "source": [
    "#### There are 959 records which are having blank data from Q6 onwords so we have removed those record from analysis "
   ]
  },
  {
   "cell_type": "code",
   "execution_count": 6,
   "metadata": {},
   "outputs": [
    {
     "data": {
      "text/plain": [
       "959"
      ]
     },
     "execution_count": 6,
     "metadata": {},
     "output_type": "execute_result"
    }
   ],
   "source": [
    "len(df1[df1['Q6'].isnull()])"
   ]
  },
  {
   "cell_type": "code",
   "execution_count": 7,
   "metadata": {},
   "outputs": [],
   "source": [
    "# df = df[pd.notnull(df['Gender'])]\n",
    "df1 = df1[pd.notnull(df1['Q6'])]"
   ]
  },
  {
   "cell_type": "code",
   "execution_count": 8,
   "metadata": {},
   "outputs": [
    {
     "data": {
      "text/plain": [
       "(22900, 395)"
      ]
     },
     "execution_count": 8,
     "metadata": {},
     "output_type": "execute_result"
    }
   ],
   "source": [
    "df1.shape"
   ]
  },
  {
   "cell_type": "markdown",
   "metadata": {},
   "source": [
    "#### Clean Q7"
   ]
  },
  {
   "cell_type": "markdown",
   "metadata": {},
   "source": [
    "#### The title is \" In what industry is your current employer/contract (or your most recent employer if retired)? - Selected Choice\"\n",
    "#### It will be blank if the person is either (Student, not Employed) \n",
    "#### But there are cases where respondand has answer current role in Q6 and not answer in Q7\n",
    "#### Again These people are not filled any other information from Q7\n",
    "#### So we will delete these records as well."
   ]
  },
  {
   "cell_type": "code",
   "execution_count": 9,
   "metadata": {},
   "outputs": [
    {
     "data": {
      "text/plain": [
       "1215"
      ]
     },
     "execution_count": 9,
     "metadata": {},
     "output_type": "execute_result"
    }
   ],
   "source": [
    "len(df1[df1['Q7'].isnull()] )"
   ]
  },
  {
   "cell_type": "code",
   "execution_count": 10,
   "metadata": {},
   "outputs": [
    {
     "data": {
      "text/plain": [
       "923"
      ]
     },
     "execution_count": 10,
     "metadata": {},
     "output_type": "execute_result"
    }
   ],
   "source": [
    "len(df1.loc[(df1['Q7'].isnull() & df1['Q6'].isin(['Student', 'Not employed']))])"
   ]
  },
  {
   "cell_type": "code",
   "execution_count": 11,
   "metadata": {},
   "outputs": [
    {
     "data": {
      "text/plain": [
       "292"
      ]
     },
     "execution_count": 11,
     "metadata": {},
     "output_type": "execute_result"
    }
   ],
   "source": [
    "len(df1.loc[(df1['Q7'].isnull() & ~df1['Q6'].isin(['Student', 'Not employed']))])"
   ]
  },
  {
   "cell_type": "code",
   "execution_count": 12,
   "metadata": {},
   "outputs": [],
   "source": [
    "df1.drop(df1.loc[(df1['Q7'].isnull() & ~df1['Q6'].isin(['Student', 'Not employed']))].index, inplace=True)"
   ]
  },
  {
   "cell_type": "code",
   "execution_count": 13,
   "metadata": {},
   "outputs": [
    {
     "data": {
      "text/plain": [
       "(22608, 395)"
      ]
     },
     "execution_count": 13,
     "metadata": {},
     "output_type": "execute_result"
    }
   ],
   "source": [
    "df1.shape"
   ]
  },
  {
   "cell_type": "code",
   "execution_count": 14,
   "metadata": {},
   "outputs": [],
   "source": [
    "# df1.to_csv('E:/Kaggle/Survey/Clean1.csv') # if path is not given then it will save in C:\\Users\\Admin"
   ]
  },
  {
   "cell_type": "markdown",
   "metadata": {},
   "source": [
    "#### Clean Q8"
   ]
  },
  {
   "cell_type": "code",
   "execution_count": 21,
   "metadata": {},
   "outputs": [],
   "source": [
    "def missing(data):\n",
    "    total=data['Q8'].isnull().sum(), data['Q9'].isnull().sum(),data['Q10'].isnull().sum()\n",
    "    miss_dic = ({'MQ8':total[0],'MQ9':total[1],'MQ10':total[2]})\n",
    "    return miss_dic"
   ]
  },
  {
   "cell_type": "code",
   "execution_count": 22,
   "metadata": {},
   "outputs": [
    {
     "data": {
      "text/plain": [
       "{'MQ8': 1507, 'MQ9': 2423, 'MQ10': 1939}"
      ]
     },
     "execution_count": 22,
     "metadata": {},
     "output_type": "execute_result"
    }
   ],
   "source": [
    "missing(df1)"
   ]
  },
  {
   "cell_type": "code",
   "execution_count": 23,
   "metadata": {},
   "outputs": [],
   "source": [
    "df1['Q8'] = df1['Q8'].fillna('Blank')"
   ]
  },
  {
   "cell_type": "code",
   "execution_count": 24,
   "metadata": {},
   "outputs": [
    {
     "name": "stdout",
     "output_type": "stream",
     "text": [
      "(0, 2423, 1939)\n"
     ]
    }
   ],
   "source": [
    "total = df1['Q8'].isnull().sum(), df1['Q9'].isnull().sum(),df1['Q10'].isnull().sum()\n",
    "print(total)"
   ]
  },
  {
   "cell_type": "code",
   "execution_count": 25,
   "metadata": {},
   "outputs": [
    {
     "data": {
      "text/html": [
       "<div>\n",
       "<style scoped>\n",
       "    .dataframe tbody tr th:only-of-type {\n",
       "        vertical-align: middle;\n",
       "    }\n",
       "\n",
       "    .dataframe tbody tr th {\n",
       "        vertical-align: top;\n",
       "    }\n",
       "\n",
       "    .dataframe thead th {\n",
       "        text-align: right;\n",
       "    }\n",
       "</style>\n",
       "<table border=\"1\" class=\"dataframe\">\n",
       "  <thead>\n",
       "    <tr style=\"text-align: right;\">\n",
       "      <th>Q8</th>\n",
       "      <th>0-1</th>\n",
       "      <th>1-2</th>\n",
       "      <th>10-15</th>\n",
       "      <th>15-20</th>\n",
       "      <th>2-3</th>\n",
       "      <th>20-25</th>\n",
       "      <th>25-30</th>\n",
       "      <th>3-4</th>\n",
       "      <th>30 +</th>\n",
       "      <th>4-5</th>\n",
       "      <th>5-10</th>\n",
       "      <th>Blank</th>\n",
       "      <th>All</th>\n",
       "    </tr>\n",
       "    <tr>\n",
       "      <th>Q6</th>\n",
       "      <th></th>\n",
       "      <th></th>\n",
       "      <th></th>\n",
       "      <th></th>\n",
       "      <th></th>\n",
       "      <th></th>\n",
       "      <th></th>\n",
       "      <th></th>\n",
       "      <th></th>\n",
       "      <th></th>\n",
       "      <th></th>\n",
       "      <th></th>\n",
       "      <th></th>\n",
       "    </tr>\n",
       "  </thead>\n",
       "  <tbody>\n",
       "    <tr>\n",
       "      <th>Business Analyst</th>\n",
       "      <td>198</td>\n",
       "      <td>122</td>\n",
       "      <td>47</td>\n",
       "      <td>22</td>\n",
       "      <td>95</td>\n",
       "      <td>10</td>\n",
       "      <td>7</td>\n",
       "      <td>63</td>\n",
       "      <td>4</td>\n",
       "      <td>50</td>\n",
       "      <td>127</td>\n",
       "      <td>13</td>\n",
       "      <td>758</td>\n",
       "    </tr>\n",
       "    <tr>\n",
       "      <th>Chief Officer</th>\n",
       "      <td>42</td>\n",
       "      <td>37</td>\n",
       "      <td>48</td>\n",
       "      <td>26</td>\n",
       "      <td>34</td>\n",
       "      <td>25</td>\n",
       "      <td>16</td>\n",
       "      <td>21</td>\n",
       "      <td>9</td>\n",
       "      <td>29</td>\n",
       "      <td>66</td>\n",
       "      <td>1</td>\n",
       "      <td>354</td>\n",
       "    </tr>\n",
       "    <tr>\n",
       "      <th>Consultant</th>\n",
       "      <td>105</td>\n",
       "      <td>109</td>\n",
       "      <td>78</td>\n",
       "      <td>66</td>\n",
       "      <td>80</td>\n",
       "      <td>33</td>\n",
       "      <td>21</td>\n",
       "      <td>63</td>\n",
       "      <td>28</td>\n",
       "      <td>56</td>\n",
       "      <td>125</td>\n",
       "      <td>6</td>\n",
       "      <td>770</td>\n",
       "    </tr>\n",
       "    <tr>\n",
       "      <th>DBA/Database Engineer</th>\n",
       "      <td>15</td>\n",
       "      <td>17</td>\n",
       "      <td>20</td>\n",
       "      <td>9</td>\n",
       "      <td>14</td>\n",
       "      <td>7</td>\n",
       "      <td>2</td>\n",
       "      <td>11</td>\n",
       "      <td>1</td>\n",
       "      <td>7</td>\n",
       "      <td>40</td>\n",
       "      <td>2</td>\n",
       "      <td>145</td>\n",
       "    </tr>\n",
       "    <tr>\n",
       "      <th>Data Analyst</th>\n",
       "      <td>634</td>\n",
       "      <td>362</td>\n",
       "      <td>72</td>\n",
       "      <td>29</td>\n",
       "      <td>277</td>\n",
       "      <td>17</td>\n",
       "      <td>7</td>\n",
       "      <td>141</td>\n",
       "      <td>7</td>\n",
       "      <td>119</td>\n",
       "      <td>184</td>\n",
       "      <td>25</td>\n",
       "      <td>1874</td>\n",
       "    </tr>\n",
       "    <tr>\n",
       "      <th>Data Engineer</th>\n",
       "      <td>177</td>\n",
       "      <td>153</td>\n",
       "      <td>47</td>\n",
       "      <td>18</td>\n",
       "      <td>110</td>\n",
       "      <td>12</td>\n",
       "      <td>1</td>\n",
       "      <td>63</td>\n",
       "      <td>2</td>\n",
       "      <td>46</td>\n",
       "      <td>89</td>\n",
       "      <td>3</td>\n",
       "      <td>721</td>\n",
       "    </tr>\n",
       "    <tr>\n",
       "      <th>Data Journalist</th>\n",
       "      <td>3</td>\n",
       "      <td>5</td>\n",
       "      <td>3</td>\n",
       "      <td>2</td>\n",
       "      <td>2</td>\n",
       "      <td>0</td>\n",
       "      <td>1</td>\n",
       "      <td>0</td>\n",
       "      <td>0</td>\n",
       "      <td>2</td>\n",
       "      <td>1</td>\n",
       "      <td>0</td>\n",
       "      <td>19</td>\n",
       "    </tr>\n",
       "    <tr>\n",
       "      <th>Data Scientist</th>\n",
       "      <td>1293</td>\n",
       "      <td>949</td>\n",
       "      <td>131</td>\n",
       "      <td>58</td>\n",
       "      <td>584</td>\n",
       "      <td>33</td>\n",
       "      <td>14</td>\n",
       "      <td>324</td>\n",
       "      <td>16</td>\n",
       "      <td>277</td>\n",
       "      <td>351</td>\n",
       "      <td>36</td>\n",
       "      <td>4066</td>\n",
       "    </tr>\n",
       "    <tr>\n",
       "      <th>Developer Advocate</th>\n",
       "      <td>21</td>\n",
       "      <td>12</td>\n",
       "      <td>10</td>\n",
       "      <td>9</td>\n",
       "      <td>13</td>\n",
       "      <td>1</td>\n",
       "      <td>2</td>\n",
       "      <td>11</td>\n",
       "      <td>0</td>\n",
       "      <td>11</td>\n",
       "      <td>24</td>\n",
       "      <td>0</td>\n",
       "      <td>114</td>\n",
       "    </tr>\n",
       "    <tr>\n",
       "      <th>Manager</th>\n",
       "      <td>48</td>\n",
       "      <td>62</td>\n",
       "      <td>114</td>\n",
       "      <td>44</td>\n",
       "      <td>49</td>\n",
       "      <td>30</td>\n",
       "      <td>12</td>\n",
       "      <td>43</td>\n",
       "      <td>12</td>\n",
       "      <td>36</td>\n",
       "      <td>133</td>\n",
       "      <td>3</td>\n",
       "      <td>586</td>\n",
       "    </tr>\n",
       "    <tr>\n",
       "      <th>Marketing Analyst</th>\n",
       "      <td>29</td>\n",
       "      <td>15</td>\n",
       "      <td>11</td>\n",
       "      <td>3</td>\n",
       "      <td>24</td>\n",
       "      <td>2</td>\n",
       "      <td>1</td>\n",
       "      <td>9</td>\n",
       "      <td>0</td>\n",
       "      <td>7</td>\n",
       "      <td>12</td>\n",
       "      <td>0</td>\n",
       "      <td>113</td>\n",
       "    </tr>\n",
       "    <tr>\n",
       "      <th>Not employed</th>\n",
       "      <td>0</td>\n",
       "      <td>0</td>\n",
       "      <td>0</td>\n",
       "      <td>0</td>\n",
       "      <td>0</td>\n",
       "      <td>0</td>\n",
       "      <td>0</td>\n",
       "      <td>0</td>\n",
       "      <td>0</td>\n",
       "      <td>0</td>\n",
       "      <td>0</td>\n",
       "      <td>842</td>\n",
       "      <td>842</td>\n",
       "    </tr>\n",
       "    <tr>\n",
       "      <th>Other</th>\n",
       "      <td>245</td>\n",
       "      <td>197</td>\n",
       "      <td>162</td>\n",
       "      <td>73</td>\n",
       "      <td>131</td>\n",
       "      <td>35</td>\n",
       "      <td>18</td>\n",
       "      <td>92</td>\n",
       "      <td>33</td>\n",
       "      <td>96</td>\n",
       "      <td>221</td>\n",
       "      <td>8</td>\n",
       "      <td>1311</td>\n",
       "    </tr>\n",
       "    <tr>\n",
       "      <th>Principal Investigator</th>\n",
       "      <td>1</td>\n",
       "      <td>4</td>\n",
       "      <td>18</td>\n",
       "      <td>16</td>\n",
       "      <td>6</td>\n",
       "      <td>11</td>\n",
       "      <td>4</td>\n",
       "      <td>8</td>\n",
       "      <td>4</td>\n",
       "      <td>8</td>\n",
       "      <td>15</td>\n",
       "      <td>0</td>\n",
       "      <td>95</td>\n",
       "    </tr>\n",
       "    <tr>\n",
       "      <th>Product/Project Manager</th>\n",
       "      <td>56</td>\n",
       "      <td>42</td>\n",
       "      <td>69</td>\n",
       "      <td>43</td>\n",
       "      <td>26</td>\n",
       "      <td>18</td>\n",
       "      <td>10</td>\n",
       "      <td>31</td>\n",
       "      <td>9</td>\n",
       "      <td>29</td>\n",
       "      <td>88</td>\n",
       "      <td>4</td>\n",
       "      <td>425</td>\n",
       "    </tr>\n",
       "    <tr>\n",
       "      <th>Research Assistant</th>\n",
       "      <td>168</td>\n",
       "      <td>151</td>\n",
       "      <td>14</td>\n",
       "      <td>5</td>\n",
       "      <td>94</td>\n",
       "      <td>0</td>\n",
       "      <td>1</td>\n",
       "      <td>51</td>\n",
       "      <td>0</td>\n",
       "      <td>45</td>\n",
       "      <td>56</td>\n",
       "      <td>2</td>\n",
       "      <td>587</td>\n",
       "    </tr>\n",
       "    <tr>\n",
       "      <th>Research Scientist</th>\n",
       "      <td>200</td>\n",
       "      <td>171</td>\n",
       "      <td>116</td>\n",
       "      <td>45</td>\n",
       "      <td>130</td>\n",
       "      <td>34</td>\n",
       "      <td>20</td>\n",
       "      <td>106</td>\n",
       "      <td>29</td>\n",
       "      <td>116</td>\n",
       "      <td>204</td>\n",
       "      <td>6</td>\n",
       "      <td>1177</td>\n",
       "    </tr>\n",
       "    <tr>\n",
       "      <th>Salesperson</th>\n",
       "      <td>14</td>\n",
       "      <td>12</td>\n",
       "      <td>8</td>\n",
       "      <td>6</td>\n",
       "      <td>13</td>\n",
       "      <td>3</td>\n",
       "      <td>0</td>\n",
       "      <td>8</td>\n",
       "      <td>1</td>\n",
       "      <td>8</td>\n",
       "      <td>25</td>\n",
       "      <td>0</td>\n",
       "      <td>98</td>\n",
       "    </tr>\n",
       "    <tr>\n",
       "      <th>Software Engineer</th>\n",
       "      <td>600</td>\n",
       "      <td>500</td>\n",
       "      <td>322</td>\n",
       "      <td>134</td>\n",
       "      <td>337</td>\n",
       "      <td>71</td>\n",
       "      <td>27</td>\n",
       "      <td>264</td>\n",
       "      <td>31</td>\n",
       "      <td>238</td>\n",
       "      <td>520</td>\n",
       "      <td>22</td>\n",
       "      <td>3066</td>\n",
       "    </tr>\n",
       "    <tr>\n",
       "      <th>Statistician</th>\n",
       "      <td>44</td>\n",
       "      <td>37</td>\n",
       "      <td>17</td>\n",
       "      <td>16</td>\n",
       "      <td>29</td>\n",
       "      <td>11</td>\n",
       "      <td>1</td>\n",
       "      <td>20</td>\n",
       "      <td>7</td>\n",
       "      <td>14</td>\n",
       "      <td>36</td>\n",
       "      <td>2</td>\n",
       "      <td>234</td>\n",
       "    </tr>\n",
       "    <tr>\n",
       "      <th>Student</th>\n",
       "      <td>2005</td>\n",
       "      <td>788</td>\n",
       "      <td>205</td>\n",
       "      <td>230</td>\n",
       "      <td>529</td>\n",
       "      <td>31</td>\n",
       "      <td>6</td>\n",
       "      <td>422</td>\n",
       "      <td>4</td>\n",
       "      <td>294</td>\n",
       "      <td>207</td>\n",
       "      <td>532</td>\n",
       "      <td>5253</td>\n",
       "    </tr>\n",
       "    <tr>\n",
       "      <th>All</th>\n",
       "      <td>5898</td>\n",
       "      <td>3745</td>\n",
       "      <td>1512</td>\n",
       "      <td>854</td>\n",
       "      <td>2577</td>\n",
       "      <td>384</td>\n",
       "      <td>171</td>\n",
       "      <td>1751</td>\n",
       "      <td>197</td>\n",
       "      <td>1488</td>\n",
       "      <td>2524</td>\n",
       "      <td>1507</td>\n",
       "      <td>22608</td>\n",
       "    </tr>\n",
       "  </tbody>\n",
       "</table>\n",
       "</div>"
      ],
      "text/plain": [
       "Q8                        0-1   1-2  10-15  15-20   2-3  20-25  25-30   3-4  \\\n",
       "Q6                                                                            \n",
       "Business Analyst          198   122     47     22    95     10      7    63   \n",
       "Chief Officer              42    37     48     26    34     25     16    21   \n",
       "Consultant                105   109     78     66    80     33     21    63   \n",
       "DBA/Database Engineer      15    17     20      9    14      7      2    11   \n",
       "Data Analyst              634   362     72     29   277     17      7   141   \n",
       "Data Engineer             177   153     47     18   110     12      1    63   \n",
       "Data Journalist             3     5      3      2     2      0      1     0   \n",
       "Data Scientist           1293   949    131     58   584     33     14   324   \n",
       "Developer Advocate         21    12     10      9    13      1      2    11   \n",
       "Manager                    48    62    114     44    49     30     12    43   \n",
       "Marketing Analyst          29    15     11      3    24      2      1     9   \n",
       "Not employed                0     0      0      0     0      0      0     0   \n",
       "Other                     245   197    162     73   131     35     18    92   \n",
       "Principal Investigator      1     4     18     16     6     11      4     8   \n",
       "Product/Project Manager    56    42     69     43    26     18     10    31   \n",
       "Research Assistant        168   151     14      5    94      0      1    51   \n",
       "Research Scientist        200   171    116     45   130     34     20   106   \n",
       "Salesperson                14    12      8      6    13      3      0     8   \n",
       "Software Engineer         600   500    322    134   337     71     27   264   \n",
       "Statistician               44    37     17     16    29     11      1    20   \n",
       "Student                  2005   788    205    230   529     31      6   422   \n",
       "All                      5898  3745   1512    854  2577    384    171  1751   \n",
       "\n",
       "Q8                       30 +   4-5  5-10  Blank    All  \n",
       "Q6                                                       \n",
       "Business Analyst            4    50   127     13    758  \n",
       "Chief Officer               9    29    66      1    354  \n",
       "Consultant                 28    56   125      6    770  \n",
       "DBA/Database Engineer       1     7    40      2    145  \n",
       "Data Analyst                7   119   184     25   1874  \n",
       "Data Engineer               2    46    89      3    721  \n",
       "Data Journalist             0     2     1      0     19  \n",
       "Data Scientist             16   277   351     36   4066  \n",
       "Developer Advocate          0    11    24      0    114  \n",
       "Manager                    12    36   133      3    586  \n",
       "Marketing Analyst           0     7    12      0    113  \n",
       "Not employed                0     0     0    842    842  \n",
       "Other                      33    96   221      8   1311  \n",
       "Principal Investigator      4     8    15      0     95  \n",
       "Product/Project Manager     9    29    88      4    425  \n",
       "Research Assistant          0    45    56      2    587  \n",
       "Research Scientist         29   116   204      6   1177  \n",
       "Salesperson                 1     8    25      0     98  \n",
       "Software Engineer          31   238   520     22   3066  \n",
       "Statistician                7    14    36      2    234  \n",
       "Student                     4   294   207    532   5253  \n",
       "All                       197  1488  2524   1507  22608  "
      ]
     },
     "execution_count": 25,
     "metadata": {},
     "output_type": "execute_result"
    }
   ],
   "source": [
    "pd.crosstab(df1['Q6'],df1['Q8'], margins=True) # Display Total"
   ]
  },
  {
   "cell_type": "code",
   "execution_count": 26,
   "metadata": {},
   "outputs": [
    {
     "data": {
      "text/plain": [
       "I do not wish to disclose my approximate yearly compensation    4756\n",
       "0-10,000                                                        4398\n",
       "10-20,000                                                       1937\n",
       "20-30,000                                                       1395\n",
       "30-40,000                                                       1119\n",
       "40-50,000                                                        965\n",
       "50-60,000                                                        919\n",
       "100-125,000                                                      843\n",
       "60-70,000                                                        729\n",
       "70-80,000                                                        677\n",
       "90-100,000                                                       566\n",
       "125-150,000                                                      533\n",
       "80-90,000                                                        506\n",
       "150-200,000                                                      457\n",
       "200-250,000                                                      172\n",
       "250-300,000                                                       75\n",
       "500,000+                                                          63\n",
       "300-400,000                                                       52\n",
       "400-500,000                                                       23\n",
       "Name: Q9, dtype: int64"
      ]
     },
     "execution_count": 26,
     "metadata": {},
     "output_type": "execute_result"
    }
   ],
   "source": [
    "df1['Q9'].value_counts()"
   ]
  },
  {
   "cell_type": "markdown",
   "metadata": {},
   "source": [
    "#### Now in Q8 there are many null (Which we replaced with Blank) even if respondants mention their role in Q6 \n",
    "#### So we replace all it with '00-01' Except for 'Not employed'"
   ]
  },
  {
   "cell_type": "code",
   "execution_count": 27,
   "metadata": {},
   "outputs": [],
   "source": [
    "df1['Q9'].replace('I do not wish to disclose my approximate yearly compensation', 0, inplace=True)"
   ]
  },
  {
   "cell_type": "code",
   "execution_count": 28,
   "metadata": {},
   "outputs": [],
   "source": [
    "df1['Q9'].fillna(0,inplace=True)"
   ]
  },
  {
   "cell_type": "code",
   "execution_count": 29,
   "metadata": {},
   "outputs": [
    {
     "data": {
      "text/plain": [
       "{'MQ8': 0, 'MQ9': 0, 'MQ10': 1939}"
      ]
     },
     "execution_count": 29,
     "metadata": {},
     "output_type": "execute_result"
    }
   ],
   "source": [
    "missing(df1)"
   ]
  },
  {
   "cell_type": "code",
   "execution_count": 30,
   "metadata": {},
   "outputs": [
    {
     "data": {
      "text/plain": [
       "0              7179\n",
       "0-10,000       4398\n",
       "10-20,000      1937\n",
       "20-30,000      1395\n",
       "30-40,000      1119\n",
       "40-50,000       965\n",
       "50-60,000       919\n",
       "100-125,000     843\n",
       "60-70,000       729\n",
       "70-80,000       677\n",
       "90-100,000      566\n",
       "125-150,000     533\n",
       "80-90,000       506\n",
       "150-200,000     457\n",
       "200-250,000     172\n",
       "250-300,000      75\n",
       "500,000+         63\n",
       "300-400,000      52\n",
       "400-500,000      23\n",
       "Name: Q9, dtype: int64"
      ]
     },
     "execution_count": 30,
     "metadata": {},
     "output_type": "execute_result"
    }
   ],
   "source": [
    "df1['Q9'].value_counts()"
   ]
  },
  {
   "cell_type": "code",
   "execution_count": 31,
   "metadata": {},
   "outputs": [],
   "source": [
    "df1['Q9_Mean'] = df1['Q9']"
   ]
  },
  {
   "cell_type": "code",
   "execution_count": 32,
   "metadata": {},
   "outputs": [],
   "source": [
    "df1['Q9_Mean'].replace('0-10,000',5000,inplace=True)\n",
    "df1['Q9_Mean'].replace('10-20,000',15000,inplace=True)\n",
    "df1['Q9_Mean'].replace('20-30,000',25000,inplace=True)\n",
    "df1['Q9_Mean'].replace('30-40,000',35000,inplace=True)\n",
    "df1['Q9_Mean'].replace('40-50,000',45000,inplace=True)\n",
    "df1['Q9_Mean'].replace('50-60,000',55000,inplace=True)\n",
    "df1['Q9_Mean'].replace('60-70,000',65000,inplace=True)\n",
    "df1['Q9_Mean'].replace('70-80,000',75000,inplace=True)\n",
    "df1['Q9_Mean'].replace('80-90,000',85000,inplace=True)\n",
    "df1['Q9_Mean'].replace('90-100,000',95000,inplace=True)\n",
    "df1['Q9_Mean'].replace('100-125,000',112500,inplace=True)\n",
    "df1['Q9_Mean'].replace('125-150,000',137500,inplace=True)\n",
    "df1['Q9_Mean'].replace('150-200,000',175000,inplace=True)\n",
    "df1['Q9_Mean'].replace('200-250,000',225000,inplace=True)\n",
    "df1['Q9_Mean'].replace('250-300,000',275000,inplace=True)\n",
    "df1['Q9_Mean'].replace('300-400,000',350000,inplace=True)\n",
    "df1['Q9_Mean'].replace('400-500,000',450000,inplace=True)\n",
    "df1['Q9_Mean'].replace('500,000+',550000,inplace=True)"
   ]
  },
  {
   "cell_type": "code",
   "execution_count": 33,
   "metadata": {},
   "outputs": [
    {
     "data": {
      "text/plain": [
       "0         7179\n",
       "5000      4398\n",
       "15000     1937\n",
       "25000     1395\n",
       "35000     1119\n",
       "45000      965\n",
       "55000      919\n",
       "112500     843\n",
       "65000      729\n",
       "75000      677\n",
       "95000      566\n",
       "137500     533\n",
       "85000      506\n",
       "175000     457\n",
       "225000     172\n",
       "275000      75\n",
       "550000      63\n",
       "350000      52\n",
       "450000      23\n",
       "Name: Q9_Mean, dtype: int64"
      ]
     },
     "execution_count": 33,
     "metadata": {},
     "output_type": "execute_result"
    }
   ],
   "source": [
    "df1['Q9_Mean'].value_counts()"
   ]
  },
  {
   "cell_type": "markdown",
   "metadata": {},
   "source": [
    "#### Now we have to replace 'I do not wish to disclose my approximate yearly compensation' with proper value."
   ]
  },
  {
   "cell_type": "code",
   "execution_count": 46,
   "metadata": {},
   "outputs": [],
   "source": [
    "#zz=df1.groupby('Q6')"
   ]
  },
  {
   "cell_type": "code",
   "execution_count": 47,
   "metadata": {},
   "outputs": [],
   "source": [
    "#df1.groupby(['Q6','Q8']).groups"
   ]
  },
  {
   "cell_type": "code",
   "execution_count": 45,
   "metadata": {},
   "outputs": [],
   "source": [
    "#zz.get_group('Business Analyst')"
   ]
  },
  {
   "cell_type": "markdown",
   "metadata": {},
   "source": [
    "####   what is the average income for people with Q6 == 'Business Analyst' and Q8 = '00-01' now this value we can use to replace blank in Q9_Mean."
   ]
  },
  {
   "cell_type": "code",
   "execution_count": 34,
   "metadata": {},
   "outputs": [
    {
     "data": {
      "text/plain": [
       "(22608, 396)"
      ]
     },
     "execution_count": 34,
     "metadata": {},
     "output_type": "execute_result"
    }
   ],
   "source": [
    "df1.shape"
   ]
  },
  {
   "cell_type": "code",
   "execution_count": 35,
   "metadata": {},
   "outputs": [
    {
     "data": {
      "text/html": [
       "<div>\n",
       "<style scoped>\n",
       "    .dataframe tbody tr th:only-of-type {\n",
       "        vertical-align: middle;\n",
       "    }\n",
       "\n",
       "    .dataframe tbody tr th {\n",
       "        vertical-align: top;\n",
       "    }\n",
       "\n",
       "    .dataframe thead th {\n",
       "        text-align: right;\n",
       "    }\n",
       "</style>\n",
       "<table border=\"1\" class=\"dataframe\">\n",
       "  <thead>\n",
       "    <tr style=\"text-align: right;\">\n",
       "      <th>Q8</th>\n",
       "      <th>Q6</th>\n",
       "      <th>0-1</th>\n",
       "      <th>1-2</th>\n",
       "      <th>10-15</th>\n",
       "      <th>15-20</th>\n",
       "      <th>2-3</th>\n",
       "      <th>20-25</th>\n",
       "      <th>25-30</th>\n",
       "      <th>3-4</th>\n",
       "      <th>30 +</th>\n",
       "      <th>4-5</th>\n",
       "      <th>5-10</th>\n",
       "      <th>Blank</th>\n",
       "    </tr>\n",
       "  </thead>\n",
       "  <tbody>\n",
       "    <tr>\n",
       "      <th>0</th>\n",
       "      <td>Business Analyst</td>\n",
       "      <td>25479.797980</td>\n",
       "      <td>29487.704918</td>\n",
       "      <td>62978.723404</td>\n",
       "      <td>77613.636364</td>\n",
       "      <td>33394.736842</td>\n",
       "      <td>52500.000000</td>\n",
       "      <td>43928.571429</td>\n",
       "      <td>38650.793651</td>\n",
       "      <td>46250.000000</td>\n",
       "      <td>43950.000000</td>\n",
       "      <td>48169.291339</td>\n",
       "      <td>6153.846154</td>\n",
       "    </tr>\n",
       "    <tr>\n",
       "      <th>1</th>\n",
       "      <td>Chief Officer</td>\n",
       "      <td>62857.142857</td>\n",
       "      <td>51418.918919</td>\n",
       "      <td>93958.333333</td>\n",
       "      <td>127596.153846</td>\n",
       "      <td>69338.235294</td>\n",
       "      <td>64600.000000</td>\n",
       "      <td>182500.000000</td>\n",
       "      <td>84166.666667</td>\n",
       "      <td>265277.777778</td>\n",
       "      <td>87413.793103</td>\n",
       "      <td>110568.181818</td>\n",
       "      <td>0.000000</td>\n",
       "    </tr>\n",
       "    <tr>\n",
       "      <th>2</th>\n",
       "      <td>Consultant</td>\n",
       "      <td>40547.619048</td>\n",
       "      <td>37889.908257</td>\n",
       "      <td>65833.333333</td>\n",
       "      <td>73409.090909</td>\n",
       "      <td>50593.750000</td>\n",
       "      <td>86287.878788</td>\n",
       "      <td>72976.190476</td>\n",
       "      <td>57817.460317</td>\n",
       "      <td>72946.428571</td>\n",
       "      <td>39419.642857</td>\n",
       "      <td>52480.000000</td>\n",
       "      <td>18750.000000</td>\n",
       "    </tr>\n",
       "    <tr>\n",
       "      <th>3</th>\n",
       "      <td>DBA/Database Engineer</td>\n",
       "      <td>33666.666667</td>\n",
       "      <td>17352.941176</td>\n",
       "      <td>42000.000000</td>\n",
       "      <td>44722.222222</td>\n",
       "      <td>40357.142857</td>\n",
       "      <td>116428.571429</td>\n",
       "      <td>65000.000000</td>\n",
       "      <td>23636.363636</td>\n",
       "      <td>112500.000000</td>\n",
       "      <td>42500.000000</td>\n",
       "      <td>33312.500000</td>\n",
       "      <td>0.000000</td>\n",
       "    </tr>\n",
       "    <tr>\n",
       "      <th>4</th>\n",
       "      <td>Data Analyst</td>\n",
       "      <td>22590.694006</td>\n",
       "      <td>29910.220994</td>\n",
       "      <td>50937.500000</td>\n",
       "      <td>57931.034483</td>\n",
       "      <td>34702.166065</td>\n",
       "      <td>48235.294118</td>\n",
       "      <td>70000.000000</td>\n",
       "      <td>35212.765957</td>\n",
       "      <td>54642.857143</td>\n",
       "      <td>43949.579832</td>\n",
       "      <td>46182.065217</td>\n",
       "      <td>600.000000</td>\n",
       "    </tr>\n",
       "    <tr>\n",
       "      <th>5</th>\n",
       "      <td>Data Engineer</td>\n",
       "      <td>29237.288136</td>\n",
       "      <td>35147.058824</td>\n",
       "      <td>74202.127660</td>\n",
       "      <td>64027.777778</td>\n",
       "      <td>34704.545455</td>\n",
       "      <td>103125.000000</td>\n",
       "      <td>112500.000000</td>\n",
       "      <td>46825.396825</td>\n",
       "      <td>68750.000000</td>\n",
       "      <td>70217.391304</td>\n",
       "      <td>56741.573034</td>\n",
       "      <td>0.000000</td>\n",
       "    </tr>\n",
       "    <tr>\n",
       "      <th>6</th>\n",
       "      <td>Data Journalist</td>\n",
       "      <td>1666.666667</td>\n",
       "      <td>59000.000000</td>\n",
       "      <td>37500.000000</td>\n",
       "      <td>81250.000000</td>\n",
       "      <td>71250.000000</td>\n",
       "      <td>0.000000</td>\n",
       "      <td>0.000000</td>\n",
       "      <td>0.000000</td>\n",
       "      <td>0.000000</td>\n",
       "      <td>7500.000000</td>\n",
       "      <td>0.000000</td>\n",
       "      <td>0.000000</td>\n",
       "    </tr>\n",
       "    <tr>\n",
       "      <th>7</th>\n",
       "      <td>Data Scientist</td>\n",
       "      <td>36540.989946</td>\n",
       "      <td>47418.335090</td>\n",
       "      <td>90400.763359</td>\n",
       "      <td>93060.344828</td>\n",
       "      <td>54931.506849</td>\n",
       "      <td>76742.424242</td>\n",
       "      <td>106964.285714</td>\n",
       "      <td>62376.543210</td>\n",
       "      <td>106250.000000</td>\n",
       "      <td>73583.032491</td>\n",
       "      <td>75185.185185</td>\n",
       "      <td>694.444444</td>\n",
       "    </tr>\n",
       "    <tr>\n",
       "      <th>8</th>\n",
       "      <td>Developer Advocate</td>\n",
       "      <td>14523.809524</td>\n",
       "      <td>24375.000000</td>\n",
       "      <td>30500.000000</td>\n",
       "      <td>64444.444444</td>\n",
       "      <td>59230.769231</td>\n",
       "      <td>0.000000</td>\n",
       "      <td>56250.000000</td>\n",
       "      <td>33409.090909</td>\n",
       "      <td>0.000000</td>\n",
       "      <td>35227.272727</td>\n",
       "      <td>35520.833333</td>\n",
       "      <td>0.000000</td>\n",
       "    </tr>\n",
       "    <tr>\n",
       "      <th>9</th>\n",
       "      <td>Manager</td>\n",
       "      <td>70885.416667</td>\n",
       "      <td>76169.354839</td>\n",
       "      <td>73442.982456</td>\n",
       "      <td>88181.818182</td>\n",
       "      <td>72500.000000</td>\n",
       "      <td>98083.333333</td>\n",
       "      <td>88958.333333</td>\n",
       "      <td>69534.883721</td>\n",
       "      <td>52083.333333</td>\n",
       "      <td>59236.111111</td>\n",
       "      <td>65037.593985</td>\n",
       "      <td>0.000000</td>\n",
       "    </tr>\n",
       "    <tr>\n",
       "      <th>10</th>\n",
       "      <td>Marketing Analyst</td>\n",
       "      <td>31206.896552</td>\n",
       "      <td>33500.000000</td>\n",
       "      <td>65000.000000</td>\n",
       "      <td>0.000000</td>\n",
       "      <td>28333.333333</td>\n",
       "      <td>60000.000000</td>\n",
       "      <td>75000.000000</td>\n",
       "      <td>46388.888889</td>\n",
       "      <td>0.000000</td>\n",
       "      <td>17142.857143</td>\n",
       "      <td>63541.666667</td>\n",
       "      <td>0.000000</td>\n",
       "    </tr>\n",
       "    <tr>\n",
       "      <th>11</th>\n",
       "      <td>Not employed</td>\n",
       "      <td>0.000000</td>\n",
       "      <td>0.000000</td>\n",
       "      <td>0.000000</td>\n",
       "      <td>0.000000</td>\n",
       "      <td>0.000000</td>\n",
       "      <td>0.000000</td>\n",
       "      <td>0.000000</td>\n",
       "      <td>0.000000</td>\n",
       "      <td>0.000000</td>\n",
       "      <td>0.000000</td>\n",
       "      <td>0.000000</td>\n",
       "      <td>0.000000</td>\n",
       "    </tr>\n",
       "    <tr>\n",
       "      <th>12</th>\n",
       "      <td>Other</td>\n",
       "      <td>32561.224490</td>\n",
       "      <td>29809.644670</td>\n",
       "      <td>55493.827160</td>\n",
       "      <td>64520.547945</td>\n",
       "      <td>43683.206107</td>\n",
       "      <td>93357.142857</td>\n",
       "      <td>66527.777778</td>\n",
       "      <td>43777.173913</td>\n",
       "      <td>131136.363636</td>\n",
       "      <td>41406.250000</td>\n",
       "      <td>45475.113122</td>\n",
       "      <td>625.000000</td>\n",
       "    </tr>\n",
       "    <tr>\n",
       "      <th>13</th>\n",
       "      <td>Principal Investigator</td>\n",
       "      <td>5000.000000</td>\n",
       "      <td>55000.000000</td>\n",
       "      <td>82222.222222</td>\n",
       "      <td>60156.250000</td>\n",
       "      <td>107500.000000</td>\n",
       "      <td>80681.818182</td>\n",
       "      <td>229375.000000</td>\n",
       "      <td>87500.000000</td>\n",
       "      <td>120000.000000</td>\n",
       "      <td>87812.500000</td>\n",
       "      <td>129333.333333</td>\n",
       "      <td>0.000000</td>\n",
       "    </tr>\n",
       "    <tr>\n",
       "      <th>14</th>\n",
       "      <td>Product/Project Manager</td>\n",
       "      <td>37142.857143</td>\n",
       "      <td>42559.523810</td>\n",
       "      <td>56268.115942</td>\n",
       "      <td>63313.953488</td>\n",
       "      <td>40673.076923</td>\n",
       "      <td>66944.444444</td>\n",
       "      <td>140750.000000</td>\n",
       "      <td>38548.387097</td>\n",
       "      <td>105277.777778</td>\n",
       "      <td>58534.482759</td>\n",
       "      <td>60369.318182</td>\n",
       "      <td>0.000000</td>\n",
       "    </tr>\n",
       "    <tr>\n",
       "      <th>15</th>\n",
       "      <td>Research Assistant</td>\n",
       "      <td>16845.238095</td>\n",
       "      <td>20695.364238</td>\n",
       "      <td>20714.285714</td>\n",
       "      <td>24000.000000</td>\n",
       "      <td>19015.957447</td>\n",
       "      <td>0.000000</td>\n",
       "      <td>0.000000</td>\n",
       "      <td>19313.725490</td>\n",
       "      <td>0.000000</td>\n",
       "      <td>15000.000000</td>\n",
       "      <td>21294.642857</td>\n",
       "      <td>0.000000</td>\n",
       "    </tr>\n",
       "    <tr>\n",
       "      <th>16</th>\n",
       "      <td>Research Scientist</td>\n",
       "      <td>36162.500000</td>\n",
       "      <td>35964.912281</td>\n",
       "      <td>47370.689655</td>\n",
       "      <td>43000.000000</td>\n",
       "      <td>38903.846154</td>\n",
       "      <td>59852.941176</td>\n",
       "      <td>66250.000000</td>\n",
       "      <td>39551.886792</td>\n",
       "      <td>111551.724138</td>\n",
       "      <td>45732.758621</td>\n",
       "      <td>43039.215686</td>\n",
       "      <td>5833.333333</td>\n",
       "    </tr>\n",
       "    <tr>\n",
       "      <th>17</th>\n",
       "      <td>Salesperson</td>\n",
       "      <td>20178.571429</td>\n",
       "      <td>22916.666667</td>\n",
       "      <td>38125.000000</td>\n",
       "      <td>66666.666667</td>\n",
       "      <td>33076.923077</td>\n",
       "      <td>121666.666667</td>\n",
       "      <td>0.000000</td>\n",
       "      <td>31250.000000</td>\n",
       "      <td>550000.000000</td>\n",
       "      <td>41250.000000</td>\n",
       "      <td>58200.000000</td>\n",
       "      <td>0.000000</td>\n",
       "    </tr>\n",
       "    <tr>\n",
       "      <th>18</th>\n",
       "      <td>Software Engineer</td>\n",
       "      <td>21487.500000</td>\n",
       "      <td>24250.000000</td>\n",
       "      <td>59906.832298</td>\n",
       "      <td>75951.492537</td>\n",
       "      <td>30333.827893</td>\n",
       "      <td>81901.408451</td>\n",
       "      <td>75185.185185</td>\n",
       "      <td>31609.848485</td>\n",
       "      <td>122822.580645</td>\n",
       "      <td>35010.504202</td>\n",
       "      <td>46947.115385</td>\n",
       "      <td>227.272727</td>\n",
       "    </tr>\n",
       "    <tr>\n",
       "      <th>19</th>\n",
       "      <td>Statistician</td>\n",
       "      <td>21590.909091</td>\n",
       "      <td>50270.270270</td>\n",
       "      <td>97794.117647</td>\n",
       "      <td>34375.000000</td>\n",
       "      <td>37068.965517</td>\n",
       "      <td>49090.909091</td>\n",
       "      <td>75000.000000</td>\n",
       "      <td>22000.000000</td>\n",
       "      <td>48571.428571</td>\n",
       "      <td>61785.714286</td>\n",
       "      <td>39027.777778</td>\n",
       "      <td>0.000000</td>\n",
       "    </tr>\n",
       "    <tr>\n",
       "      <th>20</th>\n",
       "      <td>Student</td>\n",
       "      <td>5067.331671</td>\n",
       "      <td>7065.355330</td>\n",
       "      <td>5304.878049</td>\n",
       "      <td>3858.695652</td>\n",
       "      <td>7570.888469</td>\n",
       "      <td>13548.387097</td>\n",
       "      <td>23333.333333</td>\n",
       "      <td>7446.682464</td>\n",
       "      <td>278750.000000</td>\n",
       "      <td>9795.918367</td>\n",
       "      <td>11388.888889</td>\n",
       "      <td>902.255639</td>\n",
       "    </tr>\n",
       "  </tbody>\n",
       "</table>\n",
       "</div>"
      ],
      "text/plain": [
       "Q8                       Q6           0-1           1-2         10-15  \\\n",
       "0          Business Analyst  25479.797980  29487.704918  62978.723404   \n",
       "1             Chief Officer  62857.142857  51418.918919  93958.333333   \n",
       "2                Consultant  40547.619048  37889.908257  65833.333333   \n",
       "3     DBA/Database Engineer  33666.666667  17352.941176  42000.000000   \n",
       "4              Data Analyst  22590.694006  29910.220994  50937.500000   \n",
       "5             Data Engineer  29237.288136  35147.058824  74202.127660   \n",
       "6           Data Journalist   1666.666667  59000.000000  37500.000000   \n",
       "7            Data Scientist  36540.989946  47418.335090  90400.763359   \n",
       "8        Developer Advocate  14523.809524  24375.000000  30500.000000   \n",
       "9                   Manager  70885.416667  76169.354839  73442.982456   \n",
       "10        Marketing Analyst  31206.896552  33500.000000  65000.000000   \n",
       "11             Not employed      0.000000      0.000000      0.000000   \n",
       "12                    Other  32561.224490  29809.644670  55493.827160   \n",
       "13   Principal Investigator   5000.000000  55000.000000  82222.222222   \n",
       "14  Product/Project Manager  37142.857143  42559.523810  56268.115942   \n",
       "15       Research Assistant  16845.238095  20695.364238  20714.285714   \n",
       "16       Research Scientist  36162.500000  35964.912281  47370.689655   \n",
       "17              Salesperson  20178.571429  22916.666667  38125.000000   \n",
       "18        Software Engineer  21487.500000  24250.000000  59906.832298   \n",
       "19             Statistician  21590.909091  50270.270270  97794.117647   \n",
       "20                  Student   5067.331671   7065.355330   5304.878049   \n",
       "\n",
       "Q8          15-20            2-3          20-25          25-30           3-4  \\\n",
       "0    77613.636364   33394.736842   52500.000000   43928.571429  38650.793651   \n",
       "1   127596.153846   69338.235294   64600.000000  182500.000000  84166.666667   \n",
       "2    73409.090909   50593.750000   86287.878788   72976.190476  57817.460317   \n",
       "3    44722.222222   40357.142857  116428.571429   65000.000000  23636.363636   \n",
       "4    57931.034483   34702.166065   48235.294118   70000.000000  35212.765957   \n",
       "5    64027.777778   34704.545455  103125.000000  112500.000000  46825.396825   \n",
       "6    81250.000000   71250.000000       0.000000       0.000000      0.000000   \n",
       "7    93060.344828   54931.506849   76742.424242  106964.285714  62376.543210   \n",
       "8    64444.444444   59230.769231       0.000000   56250.000000  33409.090909   \n",
       "9    88181.818182   72500.000000   98083.333333   88958.333333  69534.883721   \n",
       "10       0.000000   28333.333333   60000.000000   75000.000000  46388.888889   \n",
       "11       0.000000       0.000000       0.000000       0.000000      0.000000   \n",
       "12   64520.547945   43683.206107   93357.142857   66527.777778  43777.173913   \n",
       "13   60156.250000  107500.000000   80681.818182  229375.000000  87500.000000   \n",
       "14   63313.953488   40673.076923   66944.444444  140750.000000  38548.387097   \n",
       "15   24000.000000   19015.957447       0.000000       0.000000  19313.725490   \n",
       "16   43000.000000   38903.846154   59852.941176   66250.000000  39551.886792   \n",
       "17   66666.666667   33076.923077  121666.666667       0.000000  31250.000000   \n",
       "18   75951.492537   30333.827893   81901.408451   75185.185185  31609.848485   \n",
       "19   34375.000000   37068.965517   49090.909091   75000.000000  22000.000000   \n",
       "20    3858.695652    7570.888469   13548.387097   23333.333333   7446.682464   \n",
       "\n",
       "Q8           30 +           4-5           5-10         Blank  \n",
       "0    46250.000000  43950.000000   48169.291339   6153.846154  \n",
       "1   265277.777778  87413.793103  110568.181818      0.000000  \n",
       "2    72946.428571  39419.642857   52480.000000  18750.000000  \n",
       "3   112500.000000  42500.000000   33312.500000      0.000000  \n",
       "4    54642.857143  43949.579832   46182.065217    600.000000  \n",
       "5    68750.000000  70217.391304   56741.573034      0.000000  \n",
       "6        0.000000   7500.000000       0.000000      0.000000  \n",
       "7   106250.000000  73583.032491   75185.185185    694.444444  \n",
       "8        0.000000  35227.272727   35520.833333      0.000000  \n",
       "9    52083.333333  59236.111111   65037.593985      0.000000  \n",
       "10       0.000000  17142.857143   63541.666667      0.000000  \n",
       "11       0.000000      0.000000       0.000000      0.000000  \n",
       "12  131136.363636  41406.250000   45475.113122    625.000000  \n",
       "13  120000.000000  87812.500000  129333.333333      0.000000  \n",
       "14  105277.777778  58534.482759   60369.318182      0.000000  \n",
       "15       0.000000  15000.000000   21294.642857      0.000000  \n",
       "16  111551.724138  45732.758621   43039.215686   5833.333333  \n",
       "17  550000.000000  41250.000000   58200.000000      0.000000  \n",
       "18  122822.580645  35010.504202   46947.115385    227.272727  \n",
       "19   48571.428571  61785.714286   39027.777778      0.000000  \n",
       "20  278750.000000   9795.918367   11388.888889    902.255639  "
      ]
     },
     "execution_count": 35,
     "metadata": {},
     "output_type": "execute_result"
    }
   ],
   "source": [
    "pd.crosstab(df1['Q6'], df1['Q8'], margins=False,values=df1['Q9_Mean'] , \n",
    "                     dropna=True, aggfunc='mean').reset_index().fillna(0) \n",
    "#This is wronge because it gives mean considering null as 0 "
   ]
  },
  {
   "cell_type": "code",
   "execution_count": 37,
   "metadata": {},
   "outputs": [],
   "source": [
    "df1['Q9_Mean'].replace(0,np.nan,inplace=True)"
   ]
  },
  {
   "cell_type": "code",
   "execution_count": 38,
   "metadata": {},
   "outputs": [
    {
     "data": {
      "text/html": [
       "<div>\n",
       "<style scoped>\n",
       "    .dataframe tbody tr th:only-of-type {\n",
       "        vertical-align: middle;\n",
       "    }\n",
       "\n",
       "    .dataframe tbody tr th {\n",
       "        vertical-align: top;\n",
       "    }\n",
       "\n",
       "    .dataframe thead th {\n",
       "        text-align: right;\n",
       "    }\n",
       "</style>\n",
       "<table border=\"1\" class=\"dataframe\">\n",
       "  <thead>\n",
       "    <tr style=\"text-align: right;\">\n",
       "      <th>Q8</th>\n",
       "      <th>Q6</th>\n",
       "      <th>0-1</th>\n",
       "      <th>1-2</th>\n",
       "      <th>10-15</th>\n",
       "      <th>15-20</th>\n",
       "      <th>2-3</th>\n",
       "      <th>20-25</th>\n",
       "      <th>25-30</th>\n",
       "      <th>3-4</th>\n",
       "      <th>30 +</th>\n",
       "      <th>4-5</th>\n",
       "      <th>5-10</th>\n",
       "      <th>Blank</th>\n",
       "    </tr>\n",
       "  </thead>\n",
       "  <tbody>\n",
       "    <tr>\n",
       "      <th>0</th>\n",
       "      <td>Business Analyst</td>\n",
       "      <td>38219.696970</td>\n",
       "      <td>36338.383838</td>\n",
       "      <td>68837.209302</td>\n",
       "      <td>94861.111111</td>\n",
       "      <td>44062.500000</td>\n",
       "      <td>75000.000000</td>\n",
       "      <td>76875.000000</td>\n",
       "      <td>45092.592593</td>\n",
       "      <td>61666.666667</td>\n",
       "      <td>51104.651163</td>\n",
       "      <td>55112.612613</td>\n",
       "      <td>20000.0</td>\n",
       "    </tr>\n",
       "    <tr>\n",
       "      <th>2</th>\n",
       "      <td>Consultant</td>\n",
       "      <td>50684.523810</td>\n",
       "      <td>45888.888889</td>\n",
       "      <td>87033.898305</td>\n",
       "      <td>115357.142857</td>\n",
       "      <td>66352.459016</td>\n",
       "      <td>123804.347826</td>\n",
       "      <td>117884.615385</td>\n",
       "      <td>70048.076923</td>\n",
       "      <td>107500.000000</td>\n",
       "      <td>53841.463415</td>\n",
       "      <td>74545.454545</td>\n",
       "      <td>112500.0</td>\n",
       "    </tr>\n",
       "    <tr>\n",
       "      <th>4</th>\n",
       "      <td>Data Analyst</td>\n",
       "      <td>31408.991228</td>\n",
       "      <td>39516.423358</td>\n",
       "      <td>58214.285714</td>\n",
       "      <td>80000.000000</td>\n",
       "      <td>41793.478261</td>\n",
       "      <td>63076.923077</td>\n",
       "      <td>70000.000000</td>\n",
       "      <td>46839.622642</td>\n",
       "      <td>76500.000000</td>\n",
       "      <td>51782.178218</td>\n",
       "      <td>57030.201342</td>\n",
       "      <td>5000.0</td>\n",
       "    </tr>\n",
       "    <tr>\n",
       "      <th>7</th>\n",
       "      <td>Data Scientist</td>\n",
       "      <td>48558.581706</td>\n",
       "      <td>56320.400501</td>\n",
       "      <td>111721.698113</td>\n",
       "      <td>128511.904762</td>\n",
       "      <td>66556.016598</td>\n",
       "      <td>115113.636364</td>\n",
       "      <td>166388.888889</td>\n",
       "      <td>71921.708185</td>\n",
       "      <td>121428.571429</td>\n",
       "      <td>84225.206612</td>\n",
       "      <td>94928.057554</td>\n",
       "      <td>25000.0</td>\n",
       "    </tr>\n",
       "    <tr>\n",
       "      <th>11</th>\n",
       "      <td>Other</td>\n",
       "      <td>43355.978261</td>\n",
       "      <td>37644.230769</td>\n",
       "      <td>73089.430894</td>\n",
       "      <td>82631.578947</td>\n",
       "      <td>52500.000000</td>\n",
       "      <td>116696.428571</td>\n",
       "      <td>119750.000000</td>\n",
       "      <td>52993.421053</td>\n",
       "      <td>196704.545455</td>\n",
       "      <td>53000.000000</td>\n",
       "      <td>56460.674157</td>\n",
       "      <td>5000.0</td>\n",
       "    </tr>\n",
       "    <tr>\n",
       "      <th>15</th>\n",
       "      <td>Research Scientist</td>\n",
       "      <td>46661.290323</td>\n",
       "      <td>41836.734694</td>\n",
       "      <td>61055.555556</td>\n",
       "      <td>58636.363636</td>\n",
       "      <td>48629.807692</td>\n",
       "      <td>92500.000000</td>\n",
       "      <td>82812.500000</td>\n",
       "      <td>50512.048193</td>\n",
       "      <td>147045.454545</td>\n",
       "      <td>58296.703297</td>\n",
       "      <td>54534.161491</td>\n",
       "      <td>35000.0</td>\n",
       "    </tr>\n",
       "    <tr>\n",
       "      <th>17</th>\n",
       "      <td>Software Engineer</td>\n",
       "      <td>30843.301435</td>\n",
       "      <td>30931.122449</td>\n",
       "      <td>78734.693878</td>\n",
       "      <td>91689.189189</td>\n",
       "      <td>37582.720588</td>\n",
       "      <td>109716.981132</td>\n",
       "      <td>112777.777778</td>\n",
       "      <td>40120.192308</td>\n",
       "      <td>165543.478261</td>\n",
       "      <td>47614.285714</td>\n",
       "      <td>57576.650943</td>\n",
       "      <td>5000.0</td>\n",
       "    </tr>\n",
       "    <tr>\n",
       "      <th>19</th>\n",
       "      <td>Student</td>\n",
       "      <td>9990.167158</td>\n",
       "      <td>12769.495413</td>\n",
       "      <td>9886.363636</td>\n",
       "      <td>7274.590164</td>\n",
       "      <td>13174.342105</td>\n",
       "      <td>30000.000000</td>\n",
       "      <td>35000.000000</td>\n",
       "      <td>13372.340426</td>\n",
       "      <td>371666.666667</td>\n",
       "      <td>15652.173913</td>\n",
       "      <td>18562.992126</td>\n",
       "      <td>7500.0</td>\n",
       "    </tr>\n",
       "  </tbody>\n",
       "</table>\n",
       "</div>"
      ],
      "text/plain": [
       "Q8                  Q6           0-1           1-2          10-15  \\\n",
       "0     Business Analyst  38219.696970  36338.383838   68837.209302   \n",
       "2           Consultant  50684.523810  45888.888889   87033.898305   \n",
       "4         Data Analyst  31408.991228  39516.423358   58214.285714   \n",
       "7       Data Scientist  48558.581706  56320.400501  111721.698113   \n",
       "11               Other  43355.978261  37644.230769   73089.430894   \n",
       "15  Research Scientist  46661.290323  41836.734694   61055.555556   \n",
       "17   Software Engineer  30843.301435  30931.122449   78734.693878   \n",
       "19             Student   9990.167158  12769.495413    9886.363636   \n",
       "\n",
       "Q8          15-20           2-3          20-25          25-30           3-4  \\\n",
       "0    94861.111111  44062.500000   75000.000000   76875.000000  45092.592593   \n",
       "2   115357.142857  66352.459016  123804.347826  117884.615385  70048.076923   \n",
       "4    80000.000000  41793.478261   63076.923077   70000.000000  46839.622642   \n",
       "7   128511.904762  66556.016598  115113.636364  166388.888889  71921.708185   \n",
       "11   82631.578947  52500.000000  116696.428571  119750.000000  52993.421053   \n",
       "15   58636.363636  48629.807692   92500.000000   82812.500000  50512.048193   \n",
       "17   91689.189189  37582.720588  109716.981132  112777.777778  40120.192308   \n",
       "19    7274.590164  13174.342105   30000.000000   35000.000000  13372.340426   \n",
       "\n",
       "Q8           30 +           4-5          5-10     Blank  \n",
       "0    61666.666667  51104.651163  55112.612613   20000.0  \n",
       "2   107500.000000  53841.463415  74545.454545  112500.0  \n",
       "4    76500.000000  51782.178218  57030.201342    5000.0  \n",
       "7   121428.571429  84225.206612  94928.057554   25000.0  \n",
       "11  196704.545455  53000.000000  56460.674157    5000.0  \n",
       "15  147045.454545  58296.703297  54534.161491   35000.0  \n",
       "17  165543.478261  47614.285714  57576.650943    5000.0  \n",
       "19  371666.666667  15652.173913  18562.992126    7500.0  "
      ]
     },
     "execution_count": 38,
     "metadata": {},
     "output_type": "execute_result"
    }
   ],
   "source": [
    "pd.crosstab(df1['Q6'], df1['Q8'], margins=False,values=df1['Q9_Mean'] , \n",
    "                     dropna=True, aggfunc='mean').reset_index().dropna()"
   ]
  },
  {
   "cell_type": "code",
   "execution_count": null,
   "metadata": {},
   "outputs": [],
   "source": [
    "g1=df1.groupby(['Q6','Q8'])\n",
    "g2=g1['Q9_Mean'].transform('mean').dropna()"
   ]
  },
  {
   "cell_type": "code",
   "execution_count": 73,
   "metadata": {},
   "outputs": [
    {
     "data": {
      "text/plain": [
       "<BarContainer object of 22608 artists>"
      ]
     },
     "execution_count": 73,
     "metadata": {},
     "output_type": "execute_result"
    },
    {
     "data": {
      "image/png": "[encoded data removed]",
      "text/plain": [
       "<Figure size 936x360 with 1 Axes>"
      ]
     },
     "metadata": {
      "needs_background": "light"
     },
     "output_type": "display_data"
    }
   ],
   "source": [
    "fig_size = plt.rcParams[\"figure.figsize\"]\n",
    "fig_size[0] = 13\n",
    "fig_size[1] = 5\n",
    "plt.bar(df1['Q8'],df1['Q9_Mean'])"
   ]
  },
  {
   "cell_type": "code",
   "execution_count": null,
   "metadata": {},
   "outputs": [],
   "source": []
  },
  {
   "cell_type": "code",
   "execution_count": null,
   "metadata": {},
   "outputs": [],
   "source": []
  },
  {
   "cell_type": "code",
   "execution_count": null,
   "metadata": {},
   "outputs": [],
   "source": []
  },
  {
   "cell_type": "code",
   "execution_count": null,
   "metadata": {},
   "outputs": [],
   "source": []
  },
  {
   "cell_type": "code",
   "execution_count": 59,
   "metadata": {},
   "outputs": [],
   "source": [
    "#group_mean = bb1.groupby(['A1', 'A2'])['A3'].transform('mean')\n",
    "group_mean = df1.groupby(['Q6', 'Q8'])['Q9_Mean'].transform('mean')"
   ]
  },
  {
   "cell_type": "code",
   "execution_count": 64,
   "metadata": {},
   "outputs": [
    {
     "data": {
      "text/plain": [
       "1     18750.000000\n",
       "2     45475.113122\n",
       "3     36540.989946\n",
       "4         0.000000\n",
       "5     22590.694006\n",
       "6     36540.989946\n",
       "7     55493.827160\n",
       "8     32561.224490\n",
       "9         0.000000\n",
       "10    31609.848485\n",
       "Name: Q9_Mean, dtype: float64"
      ]
     },
     "execution_count": 64,
     "metadata": {},
     "output_type": "execute_result"
    }
   ],
   "source": [
    "group_mean.head(10)"
   ]
  },
  {
   "cell_type": "code",
   "execution_count": 68,
   "metadata": {},
   "outputs": [],
   "source": [
    "# [lambda x: x >= 500]\n",
    "group_mean1 = df1.groupby(['Q6', 'Q8'])['Q9_Mean'].transform('mean')[lambda x: x > 0]"
   ]
  },
  {
   "cell_type": "code",
   "execution_count": 69,
   "metadata": {},
   "outputs": [
    {
     "data": {
      "text/plain": [
       "1     18750.000000\n",
       "2     45475.113122\n",
       "3     36540.989946\n",
       "4         0.000000\n",
       "5     22590.694006\n",
       "6     36540.989946\n",
       "7     55493.827160\n",
       "8     32561.224490\n",
       "9         0.000000\n",
       "10    31609.848485\n",
       "Name: Q9_Mean, dtype: float64"
      ]
     },
     "execution_count": 69,
     "metadata": {},
     "output_type": "execute_result"
    }
   ],
   "source": [
    "group_mean.head(10)"
   ]
  },
  {
   "cell_type": "code",
   "execution_count": 76,
   "metadata": {},
   "outputs": [
    {
     "data": {
      "text/plain": [
       "228"
      ]
     },
     "execution_count": 76,
     "metadata": {},
     "output_type": "execute_result"
    }
   ],
   "source": [
    "len(g1)"
   ]
  },
  {
   "cell_type": "code",
   "execution_count": 83,
   "metadata": {},
   "outputs": [],
   "source": [
    "df1['Q9_Mean'].replace('',np.nan,inplace=True)"
   ]
  },
  {
   "cell_type": "code",
   "execution_count": 84,
   "metadata": {},
   "outputs": [
    {
     "data": {
      "text/plain": [
       "1        NaN\n",
       "2    15000.0\n",
       "3     5000.0\n",
       "4        NaN\n",
       "5     5000.0\n",
       "Name: Q9_Mean, dtype: float64"
      ]
     },
     "execution_count": 84,
     "metadata": {},
     "output_type": "execute_result"
    }
   ],
   "source": [
    "df1['Q9_Mean'].head(5)"
   ]
  },
  {
   "cell_type": "code",
   "execution_count": 85,
   "metadata": {},
   "outputs": [
    {
     "data": {
      "text/plain": [
       "1        112500.000000\n",
       "2         56460.674157\n",
       "3         48558.581706\n",
       "5         31408.991228\n",
       "6         48558.581706\n",
       "7         73089.430894\n",
       "8         43355.978261\n",
       "10        40120.192308\n",
       "11        13372.340426\n",
       "12        94928.057554\n",
       "13         7500.000000\n",
       "14        26709.401709\n",
       "15        39516.423358\n",
       "16        48558.581706\n",
       "17        56320.400501\n",
       "18        52500.000000\n",
       "19        56460.674157\n",
       "20        94928.057554\n",
       "21       105600.000000\n",
       "22         7500.000000\n",
       "23        77228.260870\n",
       "24        46661.290323\n",
       "25        94928.057554\n",
       "26        26709.401709\n",
       "27        52500.000000\n",
       "28        41793.478261\n",
       "29        68837.209302\n",
       "30        37582.720588\n",
       "31         9990.167158\n",
       "32        36338.383838\n",
       "             ...      \n",
       "23815     37582.720588\n",
       "23816     30843.301435\n",
       "23817     77228.260870\n",
       "23821     48558.581706\n",
       "23822     74545.454545\n",
       "23823     30931.122449\n",
       "23824     61055.555556\n",
       "23826     52500.000000\n",
       "23827     46661.290323\n",
       "23828     43355.978261\n",
       "23829     15652.173913\n",
       "23830    123750.000000\n",
       "23831     13372.340426\n",
       "23833     37500.000000\n",
       "23834     13174.342105\n",
       "23835     15652.173913\n",
       "23836     58750.000000\n",
       "23838     48558.581706\n",
       "23839     39516.423358\n",
       "23840     30931.122449\n",
       "23841     30000.000000\n",
       "23842      9990.167158\n",
       "23844     78734.693878\n",
       "23845      9990.167158\n",
       "23846      7500.000000\n",
       "23848     87033.898305\n",
       "23850     39516.423358\n",
       "23854     27732.558140\n",
       "23855    145950.000000\n",
       "23857     30843.301435\n",
       "Name: Q9_Mean, Length: 21742, dtype: float64"
      ]
     },
     "execution_count": 85,
     "metadata": {},
     "output_type": "execute_result"
    }
   ],
   "source": [
    "g1=df1.groupby(['Q6','Q8'])\n",
    "g2=g1['Q9_Mean'].transform('mean').dropna()\n",
    "g2"
   ]
  },
  {
   "cell_type": "code",
   "execution_count": 88,
   "metadata": {},
   "outputs": [],
   "source": [
    "df1['Q9_Mean2'] = g2"
   ]
  },
  {
   "cell_type": "code",
   "execution_count": 89,
   "metadata": {},
   "outputs": [],
   "source": [
    "df1.to_csv('E:/Kaggle/Survey/Clean02.csv')"
   ]
  },
  {
   "cell_type": "code",
   "execution_count": 86,
   "metadata": {},
   "outputs": [
    {
     "data": {
      "text/plain": [
       "(22608, 397)"
      ]
     },
     "execution_count": 86,
     "metadata": {},
     "output_type": "execute_result"
    }
   ],
   "source": [
    "df1.shape"
   ]
  },
  {
   "cell_type": "code",
   "execution_count": 87,
   "metadata": {},
   "outputs": [
    {
     "data": {
      "text/plain": [
       "7179"
      ]
     },
     "execution_count": 87,
     "metadata": {},
     "output_type": "execute_result"
    }
   ],
   "source": [
    "df1['Q9_Mean'].isnull().sum()"
   ]
  },
  {
   "cell_type": "code",
   "execution_count": 49,
   "metadata": {},
   "outputs": [],
   "source": [
    "df1['Q9_Mean'].replace(np.nan,0,inplace=True)"
   ]
  },
  {
   "cell_type": "code",
   "execution_count": 40,
   "metadata": {},
   "outputs": [],
   "source": [
    "g1=df1.groupby(['Q6','Q8'])\n",
    "g2=g1['Q9_Mean'].transform('mean').dropna()\n",
    "#df1['Q9_Mean'] = df1['Q9_Mean'].mask(g2['A4'] == 0, group_mean)"
   ]
  },
  {
   "cell_type": "code",
   "execution_count": 50,
   "metadata": {},
   "outputs": [],
   "source": [
    "df1['Q9_Mean'] = df1['Q9_Mean'].mask(df1['Q9_Mean'] == 0 , g2)"
   ]
  },
  {
   "cell_type": "code",
   "execution_count": 51,
   "metadata": {},
   "outputs": [],
   "source": [
    "df1['Q9_Mean01']=g2"
   ]
  },
  {
   "cell_type": "code",
   "execution_count": 53,
   "metadata": {},
   "outputs": [],
   "source": [
    "df1.to_csv('E:/Kaggle/Survey/Clean03.csv')"
   ]
  },
  {
   "cell_type": "code",
   "execution_count": 41,
   "metadata": {},
   "outputs": [
    {
     "data": {
      "text/plain": [
       "1        112500.000000\n",
       "2         56460.674157\n",
       "3         48558.581706\n",
       "5         31408.991228\n",
       "6         48558.581706\n",
       "7         73089.430894\n",
       "8         43355.978261\n",
       "10        40120.192308\n",
       "11        13372.340426\n",
       "12        94928.057554\n",
       "13         7500.000000\n",
       "14        26709.401709\n",
       "15        39516.423358\n",
       "16        48558.581706\n",
       "17        56320.400501\n",
       "18        52500.000000\n",
       "19        56460.674157\n",
       "20        94928.057554\n",
       "21       105600.000000\n",
       "22         7500.000000\n",
       "23        77228.260870\n",
       "24        46661.290323\n",
       "25        94928.057554\n",
       "26        26709.401709\n",
       "27        52500.000000\n",
       "28        41793.478261\n",
       "29        68837.209302\n",
       "30        37582.720588\n",
       "31         9990.167158\n",
       "32        36338.383838\n",
       "             ...      \n",
       "23815     37582.720588\n",
       "23816     30843.301435\n",
       "23817     77228.260870\n",
       "23821     48558.581706\n",
       "23822     74545.454545\n",
       "23823     30931.122449\n",
       "23824     61055.555556\n",
       "23826     52500.000000\n",
       "23827     46661.290323\n",
       "23828     43355.978261\n",
       "23829     15652.173913\n",
       "23830    123750.000000\n",
       "23831     13372.340426\n",
       "23833     37500.000000\n",
       "23834     13174.342105\n",
       "23835     15652.173913\n",
       "23836     58750.000000\n",
       "23838     48558.581706\n",
       "23839     39516.423358\n",
       "23840     30931.122449\n",
       "23841     30000.000000\n",
       "23842      9990.167158\n",
       "23844     78734.693878\n",
       "23845      9990.167158\n",
       "23846      7500.000000\n",
       "23848     87033.898305\n",
       "23850     39516.423358\n",
       "23854     27732.558140\n",
       "23855    145950.000000\n",
       "23857     30843.301435\n",
       "Name: Q9_Mean, Length: 21742, dtype: float64"
      ]
     },
     "execution_count": 41,
     "metadata": {},
     "output_type": "execute_result"
    }
   ],
   "source": [
    "g2"
   ]
  },
  {
   "cell_type": "code",
   "execution_count": null,
   "metadata": {},
   "outputs": [],
   "source": [
    "fig_size = plt.rcParams[\"figure.figsize\"]\n",
    "fig_size[0] = 13\n",
    "fig_size[1] = 5\n",
    "\n",
    "\n",
    "\n",
    "for i, v in enumerate(df11['Q9_Mean']):\n",
    "    ax.text(v + 3, i + .25, str(v), color='blue', fontweight='bold')\n",
    "\n",
    "plt.bar(df1['x'],df1['val'])"
   ]
  },
  {
   "cell_type": "code",
   "execution_count": null,
   "metadata": {},
   "outputs": [],
   "source": []
  },
  {
   "cell_type": "markdown",
   "metadata": {},
   "source": [
    "# Q11, Q13, Q14, 15,16,17,18,19,21,22, 27, "
   ]
  },
  {
   "cell_type": "markdown",
   "metadata": {},
   "source": [
    "|Analyze and understand data to influence product or business decisions\t                            | 9532|\n",
    "|---------------------------------------------------------------------------------------------------|-----|\n",
    "|Build and/or run a machine learning service that operationally improves my product or workflows\t| 5481|\n"
   ]
  },
  {
   "cell_type": "code",
   "execution_count": 42,
   "metadata": {
    "scrolled": true
   },
   "outputs": [
    {
     "data": {
      "text/plain": [
       "Analyze and understand data to influence product or business decisions    9532\n",
       "Name: Q11_Part_1, dtype: int64"
      ]
     },
     "execution_count": 42,
     "metadata": {},
     "output_type": "execute_result"
    }
   ],
   "source": [
    "df1['Q11_Part_1'].value_counts()"
   ]
  },
  {
   "cell_type": "code",
   "execution_count": 43,
   "metadata": {},
   "outputs": [
    {
     "data": {
      "text/plain": [
       "Build and/or run a machine learning service that operationally improves my product or workflows    5481\n",
       "Name: Q11_Part_2, dtype: int64"
      ]
     },
     "execution_count": 43,
     "metadata": {},
     "output_type": "execute_result"
    }
   ],
   "source": [
    "df1['Q11_Part_2'].value_counts()"
   ]
  },
  {
   "cell_type": "code",
   "execution_count": 54,
   "metadata": {},
   "outputs": [
    {
     "data": {
      "text/plain": [
       "['Q11_Part_1',\n",
       " 'Q11_Part_2',\n",
       " 'Q11_Part_3',\n",
       " 'Q11_Part_4',\n",
       " 'Q11_Part_5',\n",
       " 'Q11_Part_6',\n",
       " 'Q11_Part_7']"
      ]
     },
     "execution_count": 54,
     "metadata": {},
     "output_type": "execute_result"
    }
   ],
   "source": [
    "filter_col = [col for col in df1 if col.startswith('Q11_Part')]\n",
    "filter_col"
   ]
  },
  {
   "cell_type": "code",
   "execution_count": 57,
   "metadata": {},
   "outputs": [
    {
     "data": {
      "text/plain": [
       "22608"
      ]
     },
     "execution_count": 57,
     "metadata": {},
     "output_type": "execute_result"
    }
   ],
   "source": [
    "n=df1.shape[0]\n",
    "n"
   ]
  },
  {
   "cell_type": "code",
   "execution_count": 58,
   "metadata": {},
   "outputs": [
    {
     "data": {
      "text/html": [
       "<div>\n",
       "<style scoped>\n",
       "    .dataframe tbody tr th:only-of-type {\n",
       "        vertical-align: middle;\n",
       "    }\n",
       "\n",
       "    .dataframe tbody tr th {\n",
       "        vertical-align: top;\n",
       "    }\n",
       "\n",
       "    .dataframe thead th {\n",
       "        text-align: right;\n",
       "    }\n",
       "</style>\n",
       "<table border=\"1\" class=\"dataframe\">\n",
       "  <thead>\n",
       "    <tr style=\"text-align: right;\">\n",
       "      <th></th>\n",
       "      <th>Des</th>\n",
       "      <th>Fre</th>\n",
       "      <th>Per</th>\n",
       "    </tr>\n",
       "  </thead>\n",
       "  <tbody>\n",
       "    <tr>\n",
       "      <th>0</th>\n",
       "      <td>Analyze and understand data to influence produ...</td>\n",
       "      <td>9532</td>\n",
       "      <td>42.162067</td>\n",
       "    </tr>\n",
       "    <tr>\n",
       "      <th>1</th>\n",
       "      <td>Build and/or run a machine learning service th...</td>\n",
       "      <td>5481</td>\n",
       "      <td>24.243631</td>\n",
       "    </tr>\n",
       "    <tr>\n",
       "      <th>2</th>\n",
       "      <td>Build and/or run the data infrastructure that ...</td>\n",
       "      <td>5233</td>\n",
       "      <td>23.146674</td>\n",
       "    </tr>\n",
       "    <tr>\n",
       "      <th>3</th>\n",
       "      <td>Build prototypes to explore applying machine l...</td>\n",
       "      <td>7233</td>\n",
       "      <td>31.993100</td>\n",
       "    </tr>\n",
       "    <tr>\n",
       "      <th>4</th>\n",
       "      <td>Do research that advances the state of the art...</td>\n",
       "      <td>4934</td>\n",
       "      <td>21.824133</td>\n",
       "    </tr>\n",
       "    <tr>\n",
       "      <th>5</th>\n",
       "      <td>None of these activities are an important part...</td>\n",
       "      <td>3471</td>\n",
       "      <td>15.352972</td>\n",
       "    </tr>\n",
       "    <tr>\n",
       "      <th>6</th>\n",
       "      <td>Other    1192\n",
       "Name: Q11_Part_7, dtype: int64</td>\n",
       "      <td>1192</td>\n",
       "      <td>5.272470</td>\n",
       "    </tr>\n",
       "  </tbody>\n",
       "</table>\n",
       "</div>"
      ],
      "text/plain": [
       "                                                 Des   Fre        Per\n",
       "0  Analyze and understand data to influence produ...  9532  42.162067\n",
       "1  Build and/or run a machine learning service th...  5481  24.243631\n",
       "2  Build and/or run the data infrastructure that ...  5233  23.146674\n",
       "3  Build prototypes to explore applying machine l...  7233  31.993100\n",
       "4  Do research that advances the state of the art...  4934  21.824133\n",
       "5  None of these activities are an important part...  3471  15.352972\n",
       "6       Other    1192\n",
       "Name: Q11_Part_7, dtype: int64  1192   5.272470"
      ]
     },
     "execution_count": 58,
     "metadata": {},
     "output_type": "execute_result"
    }
   ],
   "source": [
    "t11=df1[filter_col[0]].value_counts()\n",
    "t12=df1[filter_col[1]].value_counts()\n",
    "t13=df1[filter_col[2]].value_counts()\n",
    "t14=df1[filter_col[3]].value_counts()\n",
    "t15=df1[filter_col[4]].value_counts()\n",
    "t16=df1[filter_col[5]].value_counts()\n",
    "t17=df1[filter_col[6]].value_counts()\n",
    "\n",
    "d1={'Des': [t11,t12,t13,t14,t15,t16,t17],'Fre' :[t11[0],t12[0],t13[0],t14[0],t15[0],t16[0],t17[0]]}\n",
    "\n",
    "f2=pd.DataFrame(d1)\n",
    "\n",
    "f2['Per'] = (f2.Fre * 100)/n\n",
    "\n",
    "f2"
   ]
  },
  {
   "cell_type": "code",
   "execution_count": 61,
   "metadata": {},
   "outputs": [
    {
     "data": {
      "text/plain": [
       "0    Analyze and understand data to influence produ...\n",
       "1    Build and/or run a machine learning service th...\n",
       "2    Build and/or run the data infrastructure that ...\n",
       "3    Build prototypes to explore applying machine l...\n",
       "4    Do research that advances the state of the art...\n",
       "5    None of these activities are an important part...\n",
       "6         Other    1192\n",
       "Name: Q11_Part_7, dtype: int64\n",
       "Name: Des, dtype: object"
      ]
     },
     "execution_count": 61,
     "metadata": {},
     "output_type": "execute_result"
    }
   ],
   "source": [
    "f2['Des']"
   ]
  },
  {
   "cell_type": "markdown",
   "metadata": {},
   "source": [
    "# other way to do this"
   ]
  },
  {
   "cell_type": "code",
   "execution_count": 62,
   "metadata": {},
   "outputs": [],
   "source": [
    "f4=df1[filter_col].melt()"
   ]
  },
  {
   "cell_type": "code",
   "execution_count": 63,
   "metadata": {},
   "outputs": [
    {
     "data": {
      "text/plain": [
       "((158256, 2),\n",
       " Index(['variable', 'value'], dtype='object'),\n",
       " pandas.core.frame.DataFrame)"
      ]
     },
     "execution_count": 63,
     "metadata": {},
     "output_type": "execute_result"
    }
   ],
   "source": [
    "f4.shape,f4.columns,type(f4)"
   ]
  },
  {
   "cell_type": "code",
   "execution_count": 64,
   "metadata": {},
   "outputs": [
    {
     "data": {
      "text/plain": [
       "Q11_Part_7    22608\n",
       "Q11_Part_3    22608\n",
       "Q11_Part_2    22608\n",
       "Q11_Part_6    22608\n",
       "Q11_Part_4    22608\n",
       "Q11_Part_5    22608\n",
       "Q11_Part_1    22608\n",
       "Name: variable, dtype: int64"
      ]
     },
     "execution_count": 64,
     "metadata": {},
     "output_type": "execute_result"
    }
   ],
   "source": [
    "f4['variable'].value_counts()"
   ]
  },
  {
   "cell_type": "code",
   "execution_count": 65,
   "metadata": {},
   "outputs": [
    {
     "data": {
      "text/html": [
       "<div>\n",
       "<style scoped>\n",
       "    .dataframe tbody tr th:only-of-type {\n",
       "        vertical-align: middle;\n",
       "    }\n",
       "\n",
       "    .dataframe tbody tr th {\n",
       "        vertical-align: top;\n",
       "    }\n",
       "\n",
       "    .dataframe thead th {\n",
       "        text-align: right;\n",
       "    }\n",
       "</style>\n",
       "<table border=\"1\" class=\"dataframe\">\n",
       "  <thead>\n",
       "    <tr style=\"text-align: right;\">\n",
       "      <th></th>\n",
       "      <th>variable</th>\n",
       "      <th>value</th>\n",
       "    </tr>\n",
       "  </thead>\n",
       "  <tbody>\n",
       "    <tr>\n",
       "      <th>0</th>\n",
       "      <td>Q11_Part_1</td>\n",
       "      <td>Analyze and understand data to influence produ...</td>\n",
       "    </tr>\n",
       "    <tr>\n",
       "      <th>1</th>\n",
       "      <td>Q11_Part_1</td>\n",
       "      <td>NaN</td>\n",
       "    </tr>\n",
       "    <tr>\n",
       "      <th>2</th>\n",
       "      <td>Q11_Part_1</td>\n",
       "      <td>Analyze and understand data to influence produ...</td>\n",
       "    </tr>\n",
       "    <tr>\n",
       "      <th>3</th>\n",
       "      <td>Q11_Part_1</td>\n",
       "      <td>NaN</td>\n",
       "    </tr>\n",
       "  </tbody>\n",
       "</table>\n",
       "</div>"
      ],
      "text/plain": [
       "     variable                                              value\n",
       "0  Q11_Part_1  Analyze and understand data to influence produ...\n",
       "1  Q11_Part_1                                                NaN\n",
       "2  Q11_Part_1  Analyze and understand data to influence produ...\n",
       "3  Q11_Part_1                                                NaN"
      ]
     },
     "execution_count": 65,
     "metadata": {},
     "output_type": "execute_result"
    }
   ],
   "source": [
    "f4.head(4)"
   ]
  },
  {
   "cell_type": "code",
   "execution_count": 66,
   "metadata": {},
   "outputs": [],
   "source": [
    "d6=f4['value'].value_counts()"
   ]
  },
  {
   "cell_type": "code",
   "execution_count": 67,
   "metadata": {},
   "outputs": [
    {
     "data": {
      "text/plain": [
       "pandas.core.series.Series"
      ]
     },
     "execution_count": 67,
     "metadata": {},
     "output_type": "execute_result"
    }
   ],
   "source": [
    "type(d6)"
   ]
  },
  {
   "cell_type": "code",
   "execution_count": 68,
   "metadata": {},
   "outputs": [
    {
     "data": {
      "text/plain": [
       "Analyze and understand data to influence product or business decisions                                              9532\n",
       "Build prototypes to explore applying machine learning to new areas                                                  7233\n",
       "Build and/or run a machine learning service that operationally improves my product or workflows                     5481\n",
       "Build and/or run the data infrastructure that my business uses for storing, analyzing, and operationalizing data    5233\n",
       "Do research that advances the state of the art of machine learning                                                  4934\n",
       "None of these activities are an important part of my role at work                                                   3471\n",
       "Other                                                                                                               1192\n",
       "Name: value, dtype: int64"
      ]
     },
     "execution_count": 68,
     "metadata": {},
     "output_type": "execute_result"
    }
   ],
   "source": [
    "d6"
   ]
  },
  {
   "cell_type": "code",
   "execution_count": 69,
   "metadata": {},
   "outputs": [
    {
     "data": {
      "text/plain": [
       "<matplotlib.axes._subplots.AxesSubplot at 0xa2e9278>"
      ]
     },
     "execution_count": 69,
     "metadata": {},
     "output_type": "execute_result"
    },
    {
     "data": {
      "image/png": "[encoded data removed]",
      "text/plain": [
       "<Figure size 432x288 with 1 Axes>"
      ]
     },
     "metadata": {
      "needs_background": "light"
     },
     "output_type": "display_data"
    }
   ],
   "source": [
    "d6.plot()"
   ]
  },
  {
   "cell_type": "code",
   "execution_count": 70,
   "metadata": {},
   "outputs": [
    {
     "data": {
      "text/plain": [
       "<matplotlib.axes._subplots.AxesSubplot at 0xa5c18d0>"
      ]
     },
     "execution_count": 70,
     "metadata": {},
     "output_type": "execute_result"
    },
    {
     "data": {
      "image/png": "[encoded data removed]",
      "text/plain": [
       "<Figure size 432x288 with 1 Axes>"
      ]
     },
     "metadata": {
      "needs_background": "light"
     },
     "output_type": "display_data"
    }
   ],
   "source": [
    "d6.hist()"
   ]
  },
  {
   "cell_type": "code",
   "execution_count": 71,
   "metadata": {},
   "outputs": [
    {
     "data": {
      "text/html": [
       "<div>\n",
       "<style scoped>\n",
       "    .dataframe tbody tr th:only-of-type {\n",
       "        vertical-align: middle;\n",
       "    }\n",
       "\n",
       "    .dataframe tbody tr th {\n",
       "        vertical-align: top;\n",
       "    }\n",
       "\n",
       "    .dataframe thead th {\n",
       "        text-align: right;\n",
       "    }\n",
       "</style>\n",
       "<table border=\"1\" class=\"dataframe\">\n",
       "  <thead>\n",
       "    <tr style=\"text-align: right;\">\n",
       "      <th>value</th>\n",
       "      <th>Analyze and understand data to influence product or business decisions</th>\n",
       "      <th>Build and/or run a machine learning service that operationally improves my product or workflows</th>\n",
       "      <th>Build and/or run the data infrastructure that my business uses for storing, analyzing, and operationalizing data</th>\n",
       "      <th>Build prototypes to explore applying machine learning to new areas</th>\n",
       "      <th>Do research that advances the state of the art of machine learning</th>\n",
       "      <th>None of these activities are an important part of my role at work</th>\n",
       "      <th>Other</th>\n",
       "    </tr>\n",
       "    <tr>\n",
       "      <th>variable</th>\n",
       "      <th></th>\n",
       "      <th></th>\n",
       "      <th></th>\n",
       "      <th></th>\n",
       "      <th></th>\n",
       "      <th></th>\n",
       "      <th></th>\n",
       "    </tr>\n",
       "  </thead>\n",
       "  <tbody>\n",
       "    <tr>\n",
       "      <th>Q11_Part_1</th>\n",
       "      <td>9532</td>\n",
       "      <td>0</td>\n",
       "      <td>0</td>\n",
       "      <td>0</td>\n",
       "      <td>0</td>\n",
       "      <td>0</td>\n",
       "      <td>0</td>\n",
       "    </tr>\n",
       "    <tr>\n",
       "      <th>Q11_Part_2</th>\n",
       "      <td>0</td>\n",
       "      <td>5481</td>\n",
       "      <td>0</td>\n",
       "      <td>0</td>\n",
       "      <td>0</td>\n",
       "      <td>0</td>\n",
       "      <td>0</td>\n",
       "    </tr>\n",
       "    <tr>\n",
       "      <th>Q11_Part_3</th>\n",
       "      <td>0</td>\n",
       "      <td>0</td>\n",
       "      <td>5233</td>\n",
       "      <td>0</td>\n",
       "      <td>0</td>\n",
       "      <td>0</td>\n",
       "      <td>0</td>\n",
       "    </tr>\n",
       "    <tr>\n",
       "      <th>Q11_Part_4</th>\n",
       "      <td>0</td>\n",
       "      <td>0</td>\n",
       "      <td>0</td>\n",
       "      <td>7233</td>\n",
       "      <td>0</td>\n",
       "      <td>0</td>\n",
       "      <td>0</td>\n",
       "    </tr>\n",
       "    <tr>\n",
       "      <th>Q11_Part_5</th>\n",
       "      <td>0</td>\n",
       "      <td>0</td>\n",
       "      <td>0</td>\n",
       "      <td>0</td>\n",
       "      <td>4934</td>\n",
       "      <td>0</td>\n",
       "      <td>0</td>\n",
       "    </tr>\n",
       "    <tr>\n",
       "      <th>Q11_Part_6</th>\n",
       "      <td>0</td>\n",
       "      <td>0</td>\n",
       "      <td>0</td>\n",
       "      <td>0</td>\n",
       "      <td>0</td>\n",
       "      <td>3471</td>\n",
       "      <td>0</td>\n",
       "    </tr>\n",
       "    <tr>\n",
       "      <th>Q11_Part_7</th>\n",
       "      <td>0</td>\n",
       "      <td>0</td>\n",
       "      <td>0</td>\n",
       "      <td>0</td>\n",
       "      <td>0</td>\n",
       "      <td>0</td>\n",
       "      <td>1192</td>\n",
       "    </tr>\n",
       "  </tbody>\n",
       "</table>\n",
       "</div>"
      ],
      "text/plain": [
       "value       Analyze and understand data to influence product or business decisions  \\\n",
       "variable                                                                             \n",
       "Q11_Part_1                                               9532                        \n",
       "Q11_Part_2                                                  0                        \n",
       "Q11_Part_3                                                  0                        \n",
       "Q11_Part_4                                                  0                        \n",
       "Q11_Part_5                                                  0                        \n",
       "Q11_Part_6                                                  0                        \n",
       "Q11_Part_7                                                  0                        \n",
       "\n",
       "value       Build and/or run a machine learning service that operationally improves my product or workflows  \\\n",
       "variable                                                                                                      \n",
       "Q11_Part_1                                                  0                                                 \n",
       "Q11_Part_2                                               5481                                                 \n",
       "Q11_Part_3                                                  0                                                 \n",
       "Q11_Part_4                                                  0                                                 \n",
       "Q11_Part_5                                                  0                                                 \n",
       "Q11_Part_6                                                  0                                                 \n",
       "Q11_Part_7                                                  0                                                 \n",
       "\n",
       "value       Build and/or run the data infrastructure that my business uses for storing, analyzing, and operationalizing data  \\\n",
       "variable                                                                                                                       \n",
       "Q11_Part_1                                                  0                                                                  \n",
       "Q11_Part_2                                                  0                                                                  \n",
       "Q11_Part_3                                               5233                                                                  \n",
       "Q11_Part_4                                                  0                                                                  \n",
       "Q11_Part_5                                                  0                                                                  \n",
       "Q11_Part_6                                                  0                                                                  \n",
       "Q11_Part_7                                                  0                                                                  \n",
       "\n",
       "value       Build prototypes to explore applying machine learning to new areas  \\\n",
       "variable                                                                         \n",
       "Q11_Part_1                                                  0                    \n",
       "Q11_Part_2                                                  0                    \n",
       "Q11_Part_3                                                  0                    \n",
       "Q11_Part_4                                               7233                    \n",
       "Q11_Part_5                                                  0                    \n",
       "Q11_Part_6                                                  0                    \n",
       "Q11_Part_7                                                  0                    \n",
       "\n",
       "value       Do research that advances the state of the art of machine learning  \\\n",
       "variable                                                                         \n",
       "Q11_Part_1                                                  0                    \n",
       "Q11_Part_2                                                  0                    \n",
       "Q11_Part_3                                                  0                    \n",
       "Q11_Part_4                                                  0                    \n",
       "Q11_Part_5                                               4934                    \n",
       "Q11_Part_6                                                  0                    \n",
       "Q11_Part_7                                                  0                    \n",
       "\n",
       "value       None of these activities are an important part of my role at work  \\\n",
       "variable                                                                        \n",
       "Q11_Part_1                                                  0                   \n",
       "Q11_Part_2                                                  0                   \n",
       "Q11_Part_3                                                  0                   \n",
       "Q11_Part_4                                                  0                   \n",
       "Q11_Part_5                                                  0                   \n",
       "Q11_Part_6                                               3471                   \n",
       "Q11_Part_7                                                  0                   \n",
       "\n",
       "value       Other  \n",
       "variable           \n",
       "Q11_Part_1      0  \n",
       "Q11_Part_2      0  \n",
       "Q11_Part_3      0  \n",
       "Q11_Part_4      0  \n",
       "Q11_Part_5      0  \n",
       "Q11_Part_6      0  \n",
       "Q11_Part_7   1192  "
      ]
     },
     "execution_count": 71,
     "metadata": {},
     "output_type": "execute_result"
    }
   ],
   "source": [
    "d7=pd.crosstab(index=f4['variable'], columns=f4['value'])\n",
    "d7"
   ]
  },
  {
   "cell_type": "code",
   "execution_count": 304,
   "metadata": {},
   "outputs": [
    {
     "data": {
      "text/plain": [
       "(7, 7)"
      ]
     },
     "execution_count": 304,
     "metadata": {},
     "output_type": "execute_result"
    }
   ],
   "source": [
    "d7.shape"
   ]
  }
 ],
 "metadata": {
  "kernelspec": {
   "display_name": "Python 3",
   "language": "python",
   "name": "python3"
  },
  "language_info": {
   "codemirror_mode": {
    "name": "ipython",
    "version": 3
   },
   "file_extension": ".py",
   "mimetype": "text/x-python",
   "name": "python",
   "nbconvert_exporter": "python",
   "pygments_lexer": "ipython3",
   "version": "3.7.0"
  }
 },
 "nbformat": 4,
 "nbformat_minor": 2
}
